{
 "cells": [
  {
   "cell_type": "markdown",
   "id": "57fd2692-b3f8-4edc-8718-4a5aca21ad7b",
   "metadata": {},
   "source": [
    "To launch the program simply run the cell below. After running, you have to manually download the output files individually. The files are found in the binder file explorer, found in the upper left corner (folder icon). The \"Summary_Report\" spreadsheet is saved in the same directory and the charts and maps saved in the \"plots\" directory."
   ]
  },
  {
   "cell_type": "code",
   "execution_count": null,
   "id": "2fe84d7d-6257-4720-9ede-f5d56d4cc7c8",
   "metadata": {},
   "outputs": [],
   "source": [
    "!python main_pipeline.py"
   ]
  }
 ],
 "metadata": {
  "kernelspec": {
   "display_name": "Python 3 (ipykernel)",
   "language": "python",
   "name": "python3"
  },
  "language_info": {
   "codemirror_mode": {
    "name": "ipython",
    "version": 3
   },
   "file_extension": ".py",
   "mimetype": "text/x-python",
   "name": "python",
   "nbconvert_exporter": "python",
   "pygments_lexer": "ipython3",
   "version": "3.12.4"
  }
 },
 "nbformat": 4,
 "nbformat_minor": 5
}
